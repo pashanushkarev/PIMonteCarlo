{
  "nbformat": 4,
  "nbformat_minor": 0,
  "metadata": {
    "colab": {
      "name": "PI Monte-Carlo.ipynb",
      "provenance": [],
      "mount_file_id": "1o0IFg8ZMzhDuLi-_0_WUxqtAvtAZFjUP",
      "authorship_tag": "ABX9TyM0XMYJyYA3wH9nxc8XIV9J",
      "include_colab_link": true
    },
    "kernelspec": {
      "name": "python3",
      "display_name": "Python 3"
    },
    "accelerator": "GPU"
  },
  "cells": [
    {
      "cell_type": "markdown",
      "metadata": {
        "id": "view-in-github",
        "colab_type": "text"
      },
      "source": [
        "<a href=\"https://colab.research.google.com/github/pashanushkarev/PIMonteCarlo/blob/main/PI_Monte_Carlo.ipynb\" target=\"_parent\"><img src=\"https://colab.research.google.com/assets/colab-badge.svg\" alt=\"Open In Colab\"/></a>"
      ]
    },
    {
      "cell_type": "code",
      "metadata": {
        "id": "4iDH74vHzHn5"
      },
      "source": [
        "pip install pycuda"
      ],
      "execution_count": null,
      "outputs": []
    },
    {
      "cell_type": "code",
      "metadata": {
        "id": "Hls7_xYpz3pU"
      },
      "source": [
        "import numpy as np\n",
        "import math\n",
        "import time\n",
        "import pycuda.autoinit\n",
        "import pycuda.driver as drv\n",
        "from pycuda.compiler import SourceModule\n"
      ],
      "execution_count": 15,
      "outputs": []
    },
    {
      "cell_type": "code",
      "metadata": {
        "id": "caR_yexEzhq1"
      },
      "source": [
        "kernel = SourceModule(\"\"\"\n",
        "__global__ void PiGPU(float *X, float *Y, float *result) \n",
        "{\n",
        "        int index = blockIdx.x * blockDim.x + threadIdx.x; \n",
        "        int threadCount = gridDim.x * blockDim.x;\n",
        "        int n = 1000000;\n",
        "        int circle = 0;\n",
        "        for (int i = index; i < n; i += threadCount) {\n",
        "                if (X[i] * X[i] + Y[i] * Y[i] < 1) {circle++;}\n",
        "        }\n",
        "        atomicAdd(result , circle);\n",
        "}\n",
        "\"\"\")"
      ],
      "execution_count": 16,
      "outputs": []
    },
    {
      "cell_type": "code",
      "metadata": {
        "id": "DX4w4w9r8t3z"
      },
      "source": [
        "def PiMonteCarloCPU(n):\n",
        "    result = 0\n",
        "    for i in range(n):\n",
        "        if x[i] ** 2 + y[i] ** 2 < 1: result += 1  \n",
        "    return result*4/N"
      ],
      "execution_count": 17,
      "outputs": []
    },
    {
      "cell_type": "code",
      "metadata": {
        "id": "GDkaMtbMAHnC"
      },
      "source": [
        "N = 1000000\n",
        "x, y = np.random.random(N), np.random.random(N)\n",
        "block_size = (256, 1, 1)\n",
        "grid_size = (int(N / (128 * block_size[0])), 1)\n",
        "result = np.zeros(1)\n",
        "PiMonteCarloGPU = kernel.get_function(\"PiGPU\")"
      ],
      "execution_count": 18,
      "outputs": []
    },
    {
      "cell_type": "code",
      "metadata": {
        "colab": {
          "base_uri": "https://localhost:8080/"
        },
        "id": "HWFQMVRXKzde",
        "outputId": "d9cd13b4-b184-4cf9-ece9-9515495e599d"
      },
      "source": [
        "start_time_cpu = time.time()\n",
        "PiMonteCarloCPU(N)\n",
        "end_time_cpu = time.time() - start_time_cpu\n",
        "print(f\"Time cpu: {end_time_cpu} sec.\")"
      ],
      "execution_count": 19,
      "outputs": [
        {
          "output_type": "stream",
          "text": [
            "Time cpu: 1.151061773300171 sec.\n"
          ],
          "name": "stdout"
        }
      ]
    },
    {
      "cell_type": "code",
      "metadata": {
        "colab": {
          "base_uri": "https://localhost:8080/"
        },
        "id": "Sh5v1HqVArez",
        "outputId": "a02e1376-66cc-4fdc-bbd5-69496905ad89"
      },
      "source": [
        "start_time_gpu = time.time()\n",
        "PiMonteCarloGPU(drv.In(x), drv.In(y),drv.Out(result), block = block_size, grid = grid_size)\n",
        "end_time_gpu = time.time() - start_time_gpu\n",
        "print(f\"Time gpu: {end_time_gpu} sec.\")"
      ],
      "execution_count": 20,
      "outputs": [
        {
          "output_type": "stream",
          "text": [
            "Time gpu: 0.007578134536743164 sec.\n"
          ],
          "name": "stdout"
        }
      ]
    },
    {
      "cell_type": "code",
      "metadata": {
        "colab": {
          "base_uri": "https://localhost:8080/"
        },
        "id": "gqTx3KhpmrMJ",
        "outputId": "b9bbe6b8-cc40-443a-9034-0f0c09071793"
      },
      "source": [
        "SpeedGPU2CPU = end_time_cpu/end_time_gpu\r\n",
        "print(f\"Ускорение GPU перед CPU: {SpeedGPU2CPU}\")"
      ],
      "execution_count": 22,
      "outputs": [
        {
          "output_type": "stream",
          "text": [
            "Ускорение GPU перед CPU: 151.89249646059463\n"
          ],
          "name": "stdout"
        }
      ]
    }
  ]
}