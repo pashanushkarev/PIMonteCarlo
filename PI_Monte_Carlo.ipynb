{
  "nbformat": 4,
  "nbformat_minor": 0,
  "metadata": {
    "colab": {
      "name": "PI Monte-Carlo",
      "provenance": [],
      "mount_file_id": "1o0IFg8ZMzhDuLi-_0_WUxqtAvtAZFjUP",
      "authorship_tag": "ABX9TyNeTV98CZW+sNoP1GNXxNof",
      "include_colab_link": true
    },
    "kernelspec": {
      "name": "python3",
      "display_name": "Python 3"
    },
    "accelerator": "GPU"
  },
  "cells": [
    {
      "cell_type": "markdown",
      "metadata": {
        "id": "view-in-github",
        "colab_type": "text"
      },
      "source": [
        "<a href=\"https://colab.research.google.com/github/pashanushkarev/PIMonteCarlo/blob/main/PI_Monte_Carlo.ipynb\" target=\"_parent\"><img src=\"https://colab.research.google.com/assets/colab-badge.svg\" alt=\"Open In Colab\"/></a>"
      ]
    },
    {
      "cell_type": "code",
      "metadata": {
        "id": "4iDH74vHzHn5",
        "colab": {
          "base_uri": "https://localhost:8080/"
        },
        "outputId": "bdf04ea0-812a-473b-cf23-2b805c6d73ae"
      },
      "source": [
        "pip install pycuda"
      ],
      "execution_count": null,
      "outputs": [
        {
          "output_type": "stream",
          "text": [
            "Collecting pycuda\n",
            "\u001b[?25l  Downloading https://files.pythonhosted.org/packages/46/61/47d3235a4c13eec5a5f03594ddb268f4858734e02980afbcd806e6242fa5/pycuda-2020.1.tar.gz (1.6MB)\n",
            "\u001b[K     |████████████████████████████████| 1.6MB 15.5MB/s \n",
            "\u001b[?25hCollecting pytools>=2011.2\n",
            "\u001b[?25l  Downloading https://files.pythonhosted.org/packages/b7/30/c9362a282ef89106768cba9d884f4b2e4f5dc6881d0c19b478d2a710b82b/pytools-2020.4.3.tar.gz (62kB)\n",
            "\u001b[K     |████████████████████████████████| 71kB 11.5MB/s \n",
            "\u001b[?25hRequirement already satisfied: decorator>=3.2.0 in /usr/local/lib/python3.6/dist-packages (from pycuda) (4.4.2)\n",
            "Collecting appdirs>=1.4.0\n",
            "  Downloading https://files.pythonhosted.org/packages/3b/00/2344469e2084fb287c2e0b57b72910309874c3245463acd6cf5e3db69324/appdirs-1.4.4-py2.py3-none-any.whl\n",
            "Collecting mako\n",
            "\u001b[?25l  Downloading https://files.pythonhosted.org/packages/a6/37/0e706200d22172eb8fa17d68a7ae22dec7631a0a92266634fb518a88a5b2/Mako-1.1.3-py2.py3-none-any.whl (75kB)\n",
            "\u001b[K     |████████████████████████████████| 81kB 13.0MB/s \n",
            "\u001b[?25hRequirement already satisfied: six>=1.8.0 in /usr/local/lib/python3.6/dist-packages (from pytools>=2011.2->pycuda) (1.15.0)\n",
            "Requirement already satisfied: numpy>=1.6.0 in /usr/local/lib/python3.6/dist-packages (from pytools>=2011.2->pycuda) (1.18.5)\n",
            "Requirement already satisfied: dataclasses>=0.7 in /usr/local/lib/python3.6/dist-packages (from pytools>=2011.2->pycuda) (0.8)\n",
            "Requirement already satisfied: MarkupSafe>=0.9.2 in /usr/local/lib/python3.6/dist-packages (from mako->pycuda) (1.1.1)\n",
            "Building wheels for collected packages: pycuda, pytools\n",
            "  Building wheel for pycuda (setup.py) ... \u001b[?25l\u001b[?25hdone\n",
            "  Created wheel for pycuda: filename=pycuda-2020.1-cp36-cp36m-linux_x86_64.whl size=621320 sha256=5b30e9839ddc37949542d5556a470ddf0eb4064157d760dbcc438b798ffec916\n",
            "  Stored in directory: /root/.cache/pip/wheels/8f/78/d1/5bb826f81d9d490297a348d818ff3ee6dd6f2075b06dde6ea0\n",
            "  Building wheel for pytools (setup.py) ... \u001b[?25l\u001b[?25hdone\n",
            "  Created wheel for pytools: filename=pytools-2020.4.3-py2.py3-none-any.whl size=61374 sha256=58d3b6ae1dd1e3013aa21305fdb9e946f1fdd2a649cbb154bd6df63afa86f8d5\n",
            "  Stored in directory: /root/.cache/pip/wheels/af/c7/81/a22edb90b0b09a880468b2253bb1df8e9f503337ee15432c64\n",
            "Successfully built pycuda pytools\n",
            "Installing collected packages: appdirs, pytools, mako, pycuda\n",
            "Successfully installed appdirs-1.4.4 mako-1.1.3 pycuda-2020.1 pytools-2020.4.3\n"
          ],
          "name": "stdout"
        }
      ]
    },
    {
      "cell_type": "code",
      "metadata": {
        "id": "Hls7_xYpz3pU"
      },
      "source": [
        "import numpy as np\n",
        "import math\n",
        "import time\n",
        "import pycuda.autoinit\n",
        "import pycuda.driver as drv\n",
        "from pycuda.compiler import SourceModule\n"
      ],
      "execution_count": null,
      "outputs": []
    },
    {
      "cell_type": "code",
      "metadata": {
        "id": "caR_yexEzhq1"
      },
      "source": [
        "kernel = SourceModule(\"\"\"\n",
        " __global__ void PiGPU(double *x, double *y, double *count) {\n",
        "        int idx = blockIdx.x * blockDim.x + threadIdx.x; \n",
        "        int threadCount = gridDim.x * blockDim.x;\n",
        "        int n = 1000000;\n",
        "        int result = 0;\n",
        "        for (int i = idx; i < n; i += threadCount) {\n",
        "                if (x[i] * x[i] + y[i] * y[i] < 1) {result++;}\n",
        "        }\n",
        "        atomicAdd(count , result);\n",
        "}\n",
        "\"\"\")"
      ],
      "execution_count": null,
      "outputs": []
    },
    {
      "cell_type": "code",
      "metadata": {
        "id": "DX4w4w9r8t3z"
      },
      "source": [
        "def PiMonteCarloCPU(n):\n",
        "    result = 0\n",
        "    for i in range(n):\n",
        "        if x[i] ** 2 + y[i] ** 2 < 1: result += 1  \n",
        "    return result*4/N"
      ],
      "execution_count": null,
      "outputs": []
    },
    {
      "cell_type": "code",
      "metadata": {
        "id": "GDkaMtbMAHnC"
      },
      "source": [
        "N = 1000000\n",
        "x, y = np.random.random(N), np.random.random(N)\n",
        "block_size = (256, 1, 1)\n",
        "grid_size = (int(N / (128 * block_size[0])), 1)\n",
        "result = np.zeros(1)\n",
        "PiMonteCarloGPU = kernel.get_function(\"PiGPU\")"
      ],
      "execution_count": null,
      "outputs": []
    },
    {
      "cell_type": "code",
      "metadata": {
        "colab": {
          "base_uri": "https://localhost:8080/"
        },
        "id": "HWFQMVRXKzde",
        "outputId": "327e0819-f57e-4e02-98ee-7721c4b35004"
      },
      "source": [
        "start_time_cpu = time.time()\n",
        "PiMonteCarloCPU(N)\n",
        "end_time_cpu = time.time() - start_time_cpu\n",
        "print(f\"Time cpu: {end_time_cpu} sec.\")\n",
        "print(f\"Result cpu:\", PiMonteCarloCPU(N))"
      ],
      "execution_count": null,
      "outputs": [
        {
          "output_type": "stream",
          "text": [
            "Time cpu: 1.2076737880706787 sec.\n",
            "Result cpu: 3.142092\n"
          ],
          "name": "stdout"
        }
      ]
    },
    {
      "cell_type": "code",
      "metadata": {
        "colab": {
          "base_uri": "https://localhost:8080/"
        },
        "id": "Sh5v1HqVArez",
        "outputId": "f4c7b290-d1cc-4ed6-dba2-b7efece9e651"
      },
      "source": [
        "start_time_gpu = time.time()\n",
        "PiMonteCarloGPU(drv.In(x), drv.In(y),drv.Out(result), block = block_size, grid = grid_size)\n",
        "end_time_gpu = time.time() - start_time_gpu\n",
        "print(f\"Time gpu: {end_time_gpu} sec.\")\n",
        "print(f\"Result gpu:\", float(result*4/N))"
      ],
      "execution_count": null,
      "outputs": [
        {
          "output_type": "stream",
          "text": [
            "Time gpu: 0.007369518280029297 sec.\n",
            "Result gpu: 3.142092\n"
          ],
          "name": "stdout"
        }
      ]
    },
    {
      "cell_type": "code",
      "metadata": {
        "colab": {
          "base_uri": "https://localhost:8080/"
        },
        "id": "gqTx3KhpmrMJ",
        "outputId": "e3000636-bef6-4779-d9f0-4db40ce0fabc"
      },
      "source": [
        "SpeedGPU2CPU = end_time_cpu/end_time_gpu\r\n",
        "print(f\"Ускорение GPU перед CPU: {SpeedGPU2CPU}\")"
      ],
      "execution_count": null,
      "outputs": [
        {
          "output_type": "stream",
          "text": [
            "Ускорение GPU перед CPU: 163.8741831122614\n"
          ],
          "name": "stdout"
        }
      ]
    }
  ]
}